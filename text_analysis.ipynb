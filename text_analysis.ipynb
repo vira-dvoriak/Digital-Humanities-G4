{
 "cells": [
  {
   "cell_type": "code",
   "execution_count": 1,
   "id": "79898e9a",
   "metadata": {},
   "outputs": [],
   "source": [
    "import pandas as pd\n",
    "import numpy as np\n",
    "from scipy.stats import pearsonr"
   ]
  },
  {
   "cell_type": "code",
   "execution_count": 2,
   "id": "f3246e04",
   "metadata": {},
   "outputs": [
    {
     "data": {
      "text/html": [
       "<div>\n",
       "<style scoped>\n",
       "    .dataframe tbody tr th:only-of-type {\n",
       "        vertical-align: middle;\n",
       "    }\n",
       "\n",
       "    .dataframe tbody tr th {\n",
       "        vertical-align: top;\n",
       "    }\n",
       "\n",
       "    .dataframe thead th {\n",
       "        text-align: right;\n",
       "    }\n",
       "</style>\n",
       "<table border=\"1\" class=\"dataframe\">\n",
       "  <thead>\n",
       "    <tr style=\"text-align: right;\">\n",
       "      <th></th>\n",
       "      <th>Book_Title</th>\n",
       "      <th>Original_Book_Title</th>\n",
       "      <th>Author_Name</th>\n",
       "      <th>Edition_Language</th>\n",
       "      <th>Rating_score</th>\n",
       "      <th>Rating_votes</th>\n",
       "      <th>Review_number</th>\n",
       "      <th>Book_Description</th>\n",
       "      <th>Year_published</th>\n",
       "      <th>Genres</th>\n",
       "      <th>url</th>\n",
       "    </tr>\n",
       "  </thead>\n",
       "  <tbody>\n",
       "    <tr>\n",
       "      <th>0</th>\n",
       "      <td>The Martian</td>\n",
       "      <td>The Martian</td>\n",
       "      <td>Andy Weir</td>\n",
       "      <td>English</td>\n",
       "      <td>4.40</td>\n",
       "      <td>846623</td>\n",
       "      <td>73943</td>\n",
       "      <td>Six days ago, astronaut Mark Watney became one...</td>\n",
       "      <td>2012</td>\n",
       "      <td>{'Science Fiction': 12536, 'Fiction': 8948, 'A...</td>\n",
       "      <td>https://www.goodreads.com/book/show/18007564-t...</td>\n",
       "    </tr>\n",
       "    <tr>\n",
       "      <th>1</th>\n",
       "      <td>The Three-Body Problem</td>\n",
       "      <td>三体</td>\n",
       "      <td>Liu Cixin</td>\n",
       "      <td>English</td>\n",
       "      <td>4.06</td>\n",
       "      <td>161942</td>\n",
       "      <td>16092</td>\n",
       "      <td>The Three-Body Problem is the first chance for...</td>\n",
       "      <td>2006</td>\n",
       "      <td>{'Science Fiction': 5069, 'Fiction': 2958, 'Cu...</td>\n",
       "      <td>https://www.goodreads.com/book/show/20518872-t...</td>\n",
       "    </tr>\n",
       "    <tr>\n",
       "      <th>2</th>\n",
       "      <td>Red Mars</td>\n",
       "      <td>Red Mars</td>\n",
       "      <td>Kim Stanley Robinson</td>\n",
       "      <td>English</td>\n",
       "      <td>3.86</td>\n",
       "      <td>69044</td>\n",
       "      <td>3436</td>\n",
       "      <td>In his most ambitious project to date, award-w...</td>\n",
       "      <td>1992</td>\n",
       "      <td>{'Science Fiction': 2848, 'Fiction': 1072, 'Sc...</td>\n",
       "      <td>https://www.goodreads.com/book/show/77507.Red_...</td>\n",
       "    </tr>\n",
       "    <tr>\n",
       "      <th>3</th>\n",
       "      <td>Rendezvous with Rama</td>\n",
       "      <td>Rendezvous with Rama</td>\n",
       "      <td>Arthur C. Clarke</td>\n",
       "      <td>English</td>\n",
       "      <td>4.10</td>\n",
       "      <td>137065</td>\n",
       "      <td>4159</td>\n",
       "      <td>At first, only a few things are known about th...</td>\n",
       "      <td>1973</td>\n",
       "      <td>{'Science Fiction': 4066, 'Fiction': 1200, 'Cl...</td>\n",
       "      <td>https://www.goodreads.com/book/show/112537.Ren...</td>\n",
       "    </tr>\n",
       "    <tr>\n",
       "      <th>4</th>\n",
       "      <td>Revelation Space</td>\n",
       "      <td>Revelation Space</td>\n",
       "      <td>Alastair Reynolds</td>\n",
       "      <td>English</td>\n",
       "      <td>3.98</td>\n",
       "      <td>45732</td>\n",
       "      <td>2197</td>\n",
       "      <td>Nine hundred thousand years ago, something ann...</td>\n",
       "      <td>2000</td>\n",
       "      <td>{'Science Fiction': 2073, 'Fiction': 499, 'Spa...</td>\n",
       "      <td>https://www.goodreads.com/book/show/89187.Reve...</td>\n",
       "    </tr>\n",
       "  </tbody>\n",
       "</table>\n",
       "</div>"
      ],
      "text/plain": [
       "               Book_Title   Original_Book_Title           Author_Name  \\\n",
       "0             The Martian           The Martian             Andy Weir   \n",
       "1  The Three-Body Problem                    三体             Liu Cixin   \n",
       "2                Red Mars              Red Mars  Kim Stanley Robinson   \n",
       "3    Rendezvous with Rama  Rendezvous with Rama      Arthur C. Clarke   \n",
       "4        Revelation Space      Revelation Space     Alastair Reynolds   \n",
       "\n",
       "  Edition_Language  Rating_score  Rating_votes  Review_number  \\\n",
       "0          English          4.40        846623          73943   \n",
       "1          English          4.06        161942          16092   \n",
       "2          English          3.86         69044           3436   \n",
       "3          English          4.10        137065           4159   \n",
       "4          English          3.98         45732           2197   \n",
       "\n",
       "                                    Book_Description  Year_published  \\\n",
       "0  Six days ago, astronaut Mark Watney became one...            2012   \n",
       "1  The Three-Body Problem is the first chance for...            2006   \n",
       "2  In his most ambitious project to date, award-w...            1992   \n",
       "3  At first, only a few things are known about th...            1973   \n",
       "4  Nine hundred thousand years ago, something ann...            2000   \n",
       "\n",
       "                                              Genres  \\\n",
       "0  {'Science Fiction': 12536, 'Fiction': 8948, 'A...   \n",
       "1  {'Science Fiction': 5069, 'Fiction': 2958, 'Cu...   \n",
       "2  {'Science Fiction': 2848, 'Fiction': 1072, 'Sc...   \n",
       "3  {'Science Fiction': 4066, 'Fiction': 1200, 'Cl...   \n",
       "4  {'Science Fiction': 2073, 'Fiction': 499, 'Spa...   \n",
       "\n",
       "                                                 url  \n",
       "0  https://www.goodreads.com/book/show/18007564-t...  \n",
       "1  https://www.goodreads.com/book/show/20518872-t...  \n",
       "2  https://www.goodreads.com/book/show/77507.Red_...  \n",
       "3  https://www.goodreads.com/book/show/112537.Ren...  \n",
       "4  https://www.goodreads.com/book/show/89187.Reve...  "
      ]
     },
     "execution_count": 2,
     "metadata": {},
     "output_type": "execute_result"
    }
   ],
   "source": [
    "df_hard = pd.read_csv('sf_hard.csv')\n",
    "df_hard.head()"
   ]
  },
  {
   "cell_type": "code",
   "execution_count": 3,
   "id": "21899226",
   "metadata": {},
   "outputs": [
    {
     "name": "stdout",
     "output_type": "stream",
     "text": [
      "    decade  # books  she  her  female  woman  girl   he  his  male  man  boy  \\\n",
      "0     1860        4    0    0       0      0     0    3    4     0    1    0   \n",
      "1     1880        1    0    0       0      0     0    1    1     0    0    0   \n",
      "2     1890        4    0    0       0      0     0    1    7     0    0    0   \n",
      "3     1900        1    0    0       0      0     0    0    0     0    0    0   \n",
      "4     1920        2    1    1       0      0     0    2    3     0    0    0   \n",
      "5     1930        5    0    0       0      0     0    6    2     0    1    0   \n",
      "6     1940        6    0    0       0      0     0    2    3     0    1    1   \n",
      "7     1950       48    2    2       0      2     2   36   40     0   18    1   \n",
      "8     1960       67    4    6       3      4     2   61   53     0   20    5   \n",
      "9     1970       85    7   10       0      5     2   62   74     0   19    1   \n",
      "10    1980      137   22   39       0      5     5   53  109     0   17    1   \n",
      "11    1990      176   57  114       0      7     4   72  134     0   18    2   \n",
      "12    2000      236   86  144       2     11     6  197  290     2   36    6   \n",
      "13    2010      441  255  398       4     30    23  319  466     1   63   17   \n",
      "14    2020       19    6   20       0      0     2   15   18     0    2    0   \n",
      "\n",
      "    total_female_words  total_male_words  avg_f_wpb  avg_m_wpb  \n",
      "0                    0                 8   0.000000   2.000000  \n",
      "1                    0                 2   0.000000   2.000000  \n",
      "2                    0                 8   0.000000   2.000000  \n",
      "3                    0                 0   0.000000   0.000000  \n",
      "4                    2                 5   1.000000   2.500000  \n",
      "5                    0                 9   0.000000   1.800000  \n",
      "6                    0                 7   0.000000   1.166667  \n",
      "7                    8                95   0.166667   1.979167  \n",
      "8                   19               139   0.283582   2.074627  \n",
      "9                   24               156   0.282353   1.835294  \n",
      "10                  71               180   0.518248   1.313869  \n",
      "11                 182               226   1.034091   1.284091  \n",
      "12                 249               531   1.055085   2.250000  \n",
      "13                 710               866   1.609977   1.963719  \n",
      "14                  28                35   1.473684   1.842105  \n"
     ]
    }
   ],
   "source": [
    "import re\n",
    "\n",
    "# removes all punctuation\n",
    "# https://stackoverflow.com/questions/1276764/stripping-everything-but-alphanumeric-chars-from-a-string-in-python\n",
    "def remove_punctuation(text):\n",
    "    return re.sub(r'[^a-zA-Z ]+', '', text)\n",
    "\n",
    "# define words to count here\n",
    "\n",
    "female_words = ['she', 'her', 'female', 'woman', 'girl']\n",
    "male_words = ['he', 'his', 'male', 'man', 'boy']\n",
    "words_of_interest = female_words + male_words\n",
    "\n",
    "def text_analysis(df):\n",
    "    # Create dictionary to keep counts of all rows per decade\n",
    "    counts_per_decade =  dict()\n",
    "    \n",
    "    # go row by row\n",
    "    # https://stackoverflow.com/questions/16476924/how-to-iterate-over-rows-in-a-dataframe-in-pandas\n",
    "    for index, row in df.iterrows():\n",
    "        \n",
    "        # 'row[column]' specifies the cell you are working with, like excel. \n",
    "        year = int(row['Year_published'])\n",
    "        if year == 0: # filtering out missing years \n",
    "            continue\n",
    "        \n",
    "        # Get book description cell as lower case string\n",
    "        book_description = str(row['Book_Description']).lower()\n",
    "        book_description = remove_punctuation(book_description) # calling the function to clean the text\n",
    "        \n",
    "        # Seperate description into a list of strings. split() always returns a list \n",
    "        words_in_book_description = book_description.split(' ')\n",
    "        \n",
    "        # Create a dictionary for counts of this row\n",
    "        counts = {\n",
    "            'number_of_books': 1, # number_of_books is always 1, count 1 per row\n",
    "        }\n",
    "        \n",
    "        # For each word defined in words_of_interest, create a key in counts with value 0\n",
    "        for word in words_of_interest:\n",
    "            counts[word] = 0\n",
    "        \n",
    "        # For each word in book description that matches a word of interest, add 1 to its count in dictionary\n",
    "        for word in words_in_book_description:\n",
    "            if word in words_of_interest: \n",
    "                counts[word] += 1\n",
    "        \n",
    "        # Calculate decade by dividing by 10 and rounding down \n",
    "        # https://stackoverflow.com/questions/31481589/separating-list-of-years-into-decades\n",
    "        decade = int(year/10) * 10\n",
    "        \n",
    "        # If counts_per_decade for this decade already had counts, add those old counts to new counts\n",
    "        # counts_per_decade {1980: {he: 1, she: 2}}\n",
    "        if decade in counts_per_decade:\n",
    "            # for each old count, add it to counts\n",
    "            for key, old_count in counts_per_decade[decade].items():\n",
    "                counts[key] += old_count\n",
    "        \n",
    "        # At this point we have the latest counts for this decade\n",
    "        # Set the new counts for this decade and continue with next row\n",
    "        counts_per_decade[decade] = counts\n",
    "\n",
    "    # At this point we are done with all books and have all the counts for all decades\n",
    "    \n",
    "    # Pandas needs the data in a specific format\n",
    "    # https://pandas.pydata.org/docs/reference/api/pandas.DataFrame.from_dict.html\n",
    "    pandas_dict = {\n",
    "        'decade': [], # each key will be a column in DataFrame\n",
    "        '# books': [],\n",
    "    }\n",
    "    # Create one column per word in words_of_interest\n",
    "    for word in words_of_interest:\n",
    "        pandas_dict[word] = []\n",
    "    \n",
    "    # For each decade, enter counts to the pandas_dict. Each decade will be a row in DataFrame\n",
    "    for decade, counts in sorted(counts_per_decade.items()): #sorted() sorts in ascending ordee the decades \n",
    "        pandas_dict['decade'].append(decade)\n",
    "        pandas_dict['# books'].append(counts['number_of_books'])\n",
    "        for word in words_of_interest:\n",
    "            pandas_dict[word].append(counts[word])\n",
    "    \n",
    "    # At this point we have the full pandas_dict\n",
    "    # Convert it to DataFrame https://pandas.pydata.org/docs/reference/api/pandas.DataFrame.from_dict.html\n",
    "    data_frame = pd.DataFrame.from_dict(pandas_dict)\n",
    "    \n",
    "    # Calculate more columns from existing columns using lambdas\n",
    "    # https://stackoverflow.com/questions/26886653/pandas-create-new-column-based-on-values-from-other-columns-apply-a-function-o\n",
    "    def total_words(row, list_of_words):\n",
    "        total_count = 0\n",
    "        for word in list_of_words:\n",
    "            total_count += row[word]\n",
    "        return total_count\n",
    "            \n",
    "            \n",
    "    def average_words_per_book(row, list_of_words):\n",
    "        num_books = row['# books']\n",
    "        total_count = total_words(row, list_of_words)\n",
    "        return total_count / num_books\n",
    "        \n",
    "    # Lambda notation basically means this: data_frame.for_each_row(apply: average_words_per_book(row, words))\n",
    "    data_frame['total_female_words'] = data_frame.apply (lambda row: total_words(row, female_words), axis=1)\n",
    "    data_frame['total_male_words'] = data_frame.apply (lambda row: total_words(row, male_words), axis=1)\n",
    "    \n",
    "    data_frame['avg_f_wpb'] = data_frame.apply (lambda row: average_words_per_book(row, female_words), axis=1)\n",
    "    data_frame['avg_m_wpb'] = data_frame.apply (lambda row: average_words_per_book(row, male_words), axis=1)\n",
    "    \n",
    "    return data_frame\n",
    "\n",
    "df_hard_analyzed = text_analysis(df_hard)\n",
    "print(df_hard_analyzed)"
   ]
  },
  {
   "cell_type": "code",
   "execution_count": null,
   "id": "7a46c3b4",
   "metadata": {},
   "outputs": [],
   "source": []
  },
  {
   "cell_type": "code",
   "execution_count": 4,
   "id": "bae10f02",
   "metadata": {},
   "outputs": [
    {
     "data": {
      "text/plain": [
       "(0.7759396922556858, 0.0006727878945146282)"
      ]
     },
     "execution_count": 4,
     "metadata": {},
     "output_type": "execute_result"
    }
   ],
   "source": [
    "pearsonr(df_hard_analyzed['decade'], df_hard_analyzed['avg_f_wpb'])"
   ]
  },
  {
   "cell_type": "code",
   "execution_count": 5,
   "id": "11512b38",
   "metadata": {},
   "outputs": [
    {
     "data": {
      "text/plain": [
       "<AxesSubplot:xlabel='decade', ylabel='avg_f_wpb'>"
      ]
     },
     "execution_count": 5,
     "metadata": {},
     "output_type": "execute_result"
    },
    {
     "data": {
      "image/png": "[encoded data removed]",
      "text/plain": [
       "<Figure size 432x288 with 1 Axes>"
      ]
     },
     "metadata": {
      "needs_background": "light"
     },
     "output_type": "display_data"
    }
   ],
   "source": [
    "df_hard_analyzed.plot.scatter(x=\"decade\", y=\"avg_f_wpb\")"
   ]
  },
  {
   "cell_type": "code",
   "execution_count": 6,
   "id": "dcf4a25d",
   "metadata": {},
   "outputs": [
    {
     "data": {
      "text/plain": [
       "(0.0758968303960085, 0.7880581062564699)"
      ]
     },
     "execution_count": 6,
     "metadata": {},
     "output_type": "execute_result"
    }
   ],
   "source": [
    "pearsonr(df_hard_analyzed['decade'], df_hard_analyzed['avg_m_wpb'])"
   ]
  },
  {
   "cell_type": "code",
   "execution_count": 7,
   "id": "0175b25c",
   "metadata": {},
   "outputs": [
    {
     "data": {
      "text/plain": [
       "<AxesSubplot:xlabel='decade', ylabel='avg_m_wpb'>"
      ]
     },
     "execution_count": 7,
     "metadata": {},
     "output_type": "execute_result"
    },
    {
     "data": {
      "image/png": "[encoded data removed]",
      "text/plain": [
       "<Figure size 432x288 with 1 Axes>"
      ]
     },
     "metadata": {
      "needs_background": "light"
     },
     "output_type": "display_data"
    }
   ],
   "source": [
    "df_hard_analyzed.plot.scatter(x=\"decade\", y=\"avg_m_wpb\")"
   ]
  },
  {
   "cell_type": "code",
   "execution_count": 8,
   "id": "a8a0050d",
   "metadata": {},
   "outputs": [
    {
     "data": {
      "text/html": [
       "<div>\n",
       "<style scoped>\n",
       "    .dataframe tbody tr th:only-of-type {\n",
       "        vertical-align: middle;\n",
       "    }\n",
       "\n",
       "    .dataframe tbody tr th {\n",
       "        vertical-align: top;\n",
       "    }\n",
       "\n",
       "    .dataframe thead th {\n",
       "        text-align: right;\n",
       "    }\n",
       "</style>\n",
       "<table border=\"1\" class=\"dataframe\">\n",
       "  <thead>\n",
       "    <tr style=\"text-align: right;\">\n",
       "      <th></th>\n",
       "      <th>Book_Title</th>\n",
       "      <th>Original_Book_Title</th>\n",
       "      <th>Author_Name</th>\n",
       "      <th>Edition_Language</th>\n",
       "      <th>Rating_score</th>\n",
       "      <th>Rating_votes</th>\n",
       "      <th>Review_number</th>\n",
       "      <th>Book_Description</th>\n",
       "      <th>Year_published</th>\n",
       "      <th>Genres</th>\n",
       "      <th>url</th>\n",
       "    </tr>\n",
       "  </thead>\n",
       "  <tbody>\n",
       "    <tr>\n",
       "      <th>0</th>\n",
       "      <td>Leviathan Wakes</td>\n",
       "      <td>Leviathan Wakes</td>\n",
       "      <td>James S.A. Corey</td>\n",
       "      <td>English</td>\n",
       "      <td>4.25</td>\n",
       "      <td>181488</td>\n",
       "      <td>12298</td>\n",
       "      <td>Humanity has colonized the solar system—Mars, ...</td>\n",
       "      <td>2011</td>\n",
       "      <td>{'Science Fiction': 5792, 'Fiction': 1950, 'Sp...</td>\n",
       "      <td>https://www.goodreads.com/book/show/8855321-le...</td>\n",
       "    </tr>\n",
       "    <tr>\n",
       "      <th>1</th>\n",
       "      <td>Ancillary Justice</td>\n",
       "      <td>Ancillary Justice</td>\n",
       "      <td>Ann Leckie</td>\n",
       "      <td>English</td>\n",
       "      <td>3.97</td>\n",
       "      <td>85505</td>\n",
       "      <td>8694</td>\n",
       "      <td>On a remote, icy planet, the soldier known as ...</td>\n",
       "      <td>2013</td>\n",
       "      <td>{'Science Fiction': 4088, 'Fiction': 1327, 'Sp...</td>\n",
       "      <td>https://www.goodreads.com/book/show/17333324-a...</td>\n",
       "    </tr>\n",
       "    <tr>\n",
       "      <th>2</th>\n",
       "      <td>Caliban's War</td>\n",
       "      <td>Caliban's War</td>\n",
       "      <td>James S.A. Corey</td>\n",
       "      <td>English</td>\n",
       "      <td>4.34</td>\n",
       "      <td>102557</td>\n",
       "      <td>5808</td>\n",
       "      <td>We are not alone.On Ganymede, breadbasket of t...</td>\n",
       "      <td>2012</td>\n",
       "      <td>{'Science Fiction': 3129, 'Fiction': 976, 'Spa...</td>\n",
       "      <td>https://www.goodreads.com/book/show/12591698-c...</td>\n",
       "    </tr>\n",
       "    <tr>\n",
       "      <th>3</th>\n",
       "      <td>The Long Way to a Small, Angry Planet</td>\n",
       "      <td>The Long Way to a Small, Angry Planet</td>\n",
       "      <td>Becky Chambers</td>\n",
       "      <td>English</td>\n",
       "      <td>4.15</td>\n",
       "      <td>80639</td>\n",
       "      <td>12511</td>\n",
       "      <td>Follow a motley crew on an exciting journey th...</td>\n",
       "      <td>2014</td>\n",
       "      <td>{'Science Fiction': 4289, 'Fiction': 1326, 'LG...</td>\n",
       "      <td>https://www.goodreads.com/book/show/22733729-t...</td>\n",
       "    </tr>\n",
       "    <tr>\n",
       "      <th>4</th>\n",
       "      <td>Dune</td>\n",
       "      <td>Dune</td>\n",
       "      <td>Frank Herbert</td>\n",
       "      <td>English</td>\n",
       "      <td>4.23</td>\n",
       "      <td>815463</td>\n",
       "      <td>26256</td>\n",
       "      <td>Set on the desert planet Arrakis, Dune is the ...</td>\n",
       "      <td>1965</td>\n",
       "      <td>{'Science Fiction': 13877, 'Fiction': 7372, 'F...</td>\n",
       "      <td>https://www.goodreads.com/book/show/44767458-dune</td>\n",
       "    </tr>\n",
       "  </tbody>\n",
       "</table>\n",
       "</div>"
      ],
      "text/plain": [
       "                              Book_Title  \\\n",
       "0                        Leviathan Wakes   \n",
       "1                      Ancillary Justice   \n",
       "2                          Caliban's War   \n",
       "3  The Long Way to a Small, Angry Planet   \n",
       "4                                   Dune   \n",
       "\n",
       "                     Original_Book_Title       Author_Name Edition_Language  \\\n",
       "0                        Leviathan Wakes  James S.A. Corey          English   \n",
       "1                      Ancillary Justice        Ann Leckie          English   \n",
       "2                          Caliban's War  James S.A. Corey          English   \n",
       "3  The Long Way to a Small, Angry Planet    Becky Chambers          English   \n",
       "4                                   Dune     Frank Herbert          English   \n",
       "\n",
       "   Rating_score  Rating_votes  Review_number  \\\n",
       "0          4.25        181488          12298   \n",
       "1          3.97         85505           8694   \n",
       "2          4.34        102557           5808   \n",
       "3          4.15         80639          12511   \n",
       "4          4.23        815463          26256   \n",
       "\n",
       "                                    Book_Description  Year_published  \\\n",
       "0  Humanity has colonized the solar system—Mars, ...            2011   \n",
       "1  On a remote, icy planet, the soldier known as ...            2013   \n",
       "2  We are not alone.On Ganymede, breadbasket of t...            2012   \n",
       "3  Follow a motley crew on an exciting journey th...            2014   \n",
       "4  Set on the desert planet Arrakis, Dune is the ...            1965   \n",
       "\n",
       "                                              Genres  \\\n",
       "0  {'Science Fiction': 5792, 'Fiction': 1950, 'Sp...   \n",
       "1  {'Science Fiction': 4088, 'Fiction': 1327, 'Sp...   \n",
       "2  {'Science Fiction': 3129, 'Fiction': 976, 'Spa...   \n",
       "3  {'Science Fiction': 4289, 'Fiction': 1326, 'LG...   \n",
       "4  {'Science Fiction': 13877, 'Fiction': 7372, 'F...   \n",
       "\n",
       "                                                 url  \n",
       "0  https://www.goodreads.com/book/show/8855321-le...  \n",
       "1  https://www.goodreads.com/book/show/17333324-a...  \n",
       "2  https://www.goodreads.com/book/show/12591698-c...  \n",
       "3  https://www.goodreads.com/book/show/22733729-t...  \n",
       "4  https://www.goodreads.com/book/show/44767458-dune  "
      ]
     },
     "execution_count": 8,
     "metadata": {},
     "output_type": "execute_result"
    }
   ],
   "source": [
    "df_so = pd.read_csv('sf_space_opera.csv')\n",
    "df_so.head()"
   ]
  },
  {
   "cell_type": "code",
   "execution_count": 9,
   "id": "96bc4b71",
   "metadata": {},
   "outputs": [
    {
     "name": "stdout",
     "output_type": "stream",
     "text": [
      "    decade  # books  she  her  female  woman  girl   he  his  male  man  boy  \\\n",
      "0     1910        2    1    3       0      1     0    2    3     0    0    0   \n",
      "1     1920        1    0    0       0      0     0    0    5     0    0    0   \n",
      "2     1930        4    0    0       0      0     0    0    3     0    0    0   \n",
      "3     1940        3    0    0       0      0     0    2    3     0    1    1   \n",
      "4     1950       21    2    0       0      1     1   20   21     0   10    1   \n",
      "5     1960       25    2    2       1      1     0   38   31     0    7    2   \n",
      "6     1970       32    5    6       0      2     0   35   37     0   11    0   \n",
      "7     1980       76   19   22       0      3     2   53   82     0   10    1   \n",
      "8     1990      178   96  189       1      9     4   83  141     0   22    2   \n",
      "9     2000      278  141  285       3     14     4  215  336     2   54    4   \n",
      "10    2010      597  457  919       2     34    24  445  588     0   78   14   \n",
      "11    2020       33   30   98       0      0     0   15   33     0    2    0   \n",
      "\n",
      "    total_female_words  total_male_words  avg_f_wpb  avg_m_wpb  \n",
      "0                    5                 5   2.500000   2.500000  \n",
      "1                    0                 5   0.000000   5.000000  \n",
      "2                    0                 3   0.000000   0.750000  \n",
      "3                    0                 7   0.000000   2.333333  \n",
      "4                    4                52   0.190476   2.476190  \n",
      "5                    6                78   0.240000   3.120000  \n",
      "6                   13                83   0.406250   2.593750  \n",
      "7                   46               146   0.605263   1.921053  \n",
      "8                  299               248   1.679775   1.393258  \n",
      "9                  447               611   1.607914   2.197842  \n",
      "10                1436              1125   2.405360   1.884422  \n",
      "11                 128                50   3.878788   1.515152  \n"
     ]
    }
   ],
   "source": [
    "df_so_analyzed = text_analysis(df_so)\n",
    "print(df_so_analyzed)"
   ]
  },
  {
   "cell_type": "code",
   "execution_count": 10,
   "id": "2039ce3d",
   "metadata": {},
   "outputs": [
    {
     "data": {
      "text/plain": [
       "(0.5720975557450176, 0.05193234037760485)"
      ]
     },
     "execution_count": 10,
     "metadata": {},
     "output_type": "execute_result"
    }
   ],
   "source": [
    "pearsonr(df_so_analyzed['decade'], df_so_analyzed['avg_f_wpb'])"
   ]
  },
  {
   "cell_type": "code",
   "execution_count": 11,
   "id": "979cef92",
   "metadata": {},
   "outputs": [
    {
     "data": {
      "text/plain": [
       "<AxesSubplot:xlabel='decade', ylabel='avg_f_wpb'>"
      ]
     },
     "execution_count": 11,
     "metadata": {},
     "output_type": "execute_result"
    },
    {
     "data": {
      "image/png": "[encoded data removed]",
      "text/plain": [
       "<Figure size 432x288 with 1 Axes>"
      ]
     },
     "metadata": {
      "needs_background": "light"
     },
     "output_type": "display_data"
    }
   ],
   "source": [
    "df_so_analyzed.plot.scatter(x=\"decade\", y=\"avg_f_wpb\")"
   ]
  },
  {
   "cell_type": "code",
   "execution_count": 18,
   "id": "f44c14f4",
   "metadata": {},
   "outputs": [
    {
     "data": {
      "text/plain": [
       "(-0.4823914953774874, 0.11221672663658865)"
      ]
     },
     "execution_count": 18,
     "metadata": {},
     "output_type": "execute_result"
    }
   ],
   "source": [
    "pearsonr(df_so_analyzed['decade'], df_so_analyzed['avg_m_wpb'])"
   ]
  },
  {
   "cell_type": "code",
   "execution_count": 12,
   "id": "11d80feb",
   "metadata": {},
   "outputs": [
    {
     "data": {
      "text/plain": [
       "<AxesSubplot:xlabel='decade', ylabel='avg_m_wpb'>"
      ]
     },
     "execution_count": 12,
     "metadata": {},
     "output_type": "execute_result"
    },
    {
     "data": {
      "image/png": "[encoded data removed]",
      "text/plain": [
       "<Figure size 432x288 with 1 Axes>"
      ]
     },
     "metadata": {
      "needs_background": "light"
     },
     "output_type": "display_data"
    }
   ],
   "source": [
    "df_so_analyzed.plot.scatter(x=\"decade\", y=\"avg_m_wpb\")"
   ]
  },
  {
   "cell_type": "code",
   "execution_count": 13,
   "id": "2807aecf",
   "metadata": {},
   "outputs": [
    {
     "name": "stdout",
     "output_type": "stream",
     "text": [
      "    decade  # books  she  her  female  woman  girl   he  his  male  man  boy  \\\n",
      "0     1910        1    0    0       0      1     0    2    1     0    0    0   \n",
      "1     1920        1    0    0       0      0     0    0    5     0    0    0   \n",
      "2     1930        4    0    0       0      0     0    0    3     0    0    0   \n",
      "3     1940        3    0    0       0      0     0    2    3     0    1    1   \n",
      "4     1950       21    2    0       0      1     1   20   21     0   10    1   \n",
      "5     1960       25    2    2       1      1     0   38   31     0    7    2   \n",
      "6     1970       32    5    6       0      2     0   35   37     0   11    0   \n",
      "7     1980       76   19   22       0      3     2   53   82     0   10    1   \n",
      "8     1990      178   96  189       1      9     4   83  141     0   22    2   \n",
      "9     2000      278  141  285       3     14     4  215  336     2   54    4   \n",
      "10    2010      597  457  919       2     34    24  445  588     0   78   14   \n",
      "11    2020       33   30   98       0      0     0   15   33     0    2    0   \n",
      "\n",
      "    total_female_words  total_male_words  avg_f_wpb  avg_m_wpb  \n",
      "0                    1                 3   1.000000   3.000000  \n",
      "1                    0                 5   0.000000   5.000000  \n",
      "2                    0                 3   0.000000   0.750000  \n",
      "3                    0                 7   0.000000   2.333333  \n",
      "4                    4                52   0.190476   2.476190  \n",
      "5                    6                78   0.240000   3.120000  \n",
      "6                   13                83   0.406250   2.593750  \n",
      "7                   46               146   0.605263   1.921053  \n",
      "8                  299               248   1.679775   1.393258  \n",
      "9                  447               611   1.607914   2.197842  \n",
      "10                1436              1125   2.405360   1.884422  \n",
      "11                 128                50   3.878788   1.515152  \n"
     ]
    }
   ],
   "source": [
    "\n",
    "\n",
    "# removes all punctuation\n",
    "# https://stackoverflow.com/questions/1276764/stripping-everything-but-alphanumeric-chars-from-a-string-in-python\n",
    "def remove_punctuation(text):\n",
    "    return re.sub(r'[^a-zA-Z ]+', '', text)\n",
    "\n",
    "# define words to count here\n",
    "\n",
    "female_words = ['she', 'her', 'female', 'woman', 'girl']\n",
    "male_words = ['he', 'his', 'male', 'man', 'boy']\n",
    "words_of_interest = female_words + male_words\n",
    "\n",
    "def text_analysis(df):\n",
    "    # Create dictionary to keep counts of all rows per decade\n",
    "    counts_per_decade =  dict()\n",
    "    \n",
    "    # go row by row\n",
    "    # https://stackoverflow.com/questions/16476924/how-to-iterate-over-rows-in-a-dataframe-in-pandas\n",
    "    for index, row in df.iterrows():\n",
    "        \n",
    "        # 'row[column]' specifies the cell you are working with, like excel. \n",
    "        year = int(row['Year_published'])\n",
    "        if year == 0: # filtering out missing years \n",
    "            continue\n",
    "        if year == 1912: # filtering out outlier years \n",
    "            continue\n",
    "        \n",
    "        # Get book description cell as lower case string\n",
    "        book_description = str(row['Book_Description']).lower()\n",
    "        book_description = remove_punctuation(book_description) # calling the function to clean the text\n",
    "        \n",
    "        # Seperate description into a list of strings. split() always returns a list \n",
    "        words_in_book_description = book_description.split(' ')\n",
    "        \n",
    "        # Create a dictionary for counts of this row\n",
    "        counts = {\n",
    "            'number_of_books': 1, # number_of_books is always 1, count 1 per row\n",
    "        }\n",
    "        \n",
    "        # For each word defined in words_of_interest, create a key in counts with value 0\n",
    "        for word in words_of_interest:\n",
    "            counts[word] = 0\n",
    "        \n",
    "        # For each word in book description that matches a word of interest, add 1 to its count in dictionary\n",
    "        for word in words_in_book_description:\n",
    "            if word in words_of_interest: \n",
    "                counts[word] += 1\n",
    "        \n",
    "        # Calculate decade by dividing by 10 and rounding down \n",
    "        # https://stackoverflow.com/questions/31481589/separating-list-of-years-into-decades\n",
    "        decade = int(year/10) * 10\n",
    "        \n",
    "        # If counts_per_decade for this decade already had counts, add those old counts to new counts\n",
    "        # counts_per_decade {1980: {he: 1, she: 2}}\n",
    "        if decade in counts_per_decade:\n",
    "            # for each old count, add it to counts\n",
    "            for key, old_count in counts_per_decade[decade].items():\n",
    "                counts[key] += old_count\n",
    "        \n",
    "        # At this point we have the latest counts for this decade\n",
    "        # Set the new counts for this decade and continue with next row\n",
    "        counts_per_decade[decade] = counts\n",
    "\n",
    "    # At this point we are done with all books and have all the counts for all decades\n",
    "    \n",
    "    # Pandas needs the data in a specific format\n",
    "    # https://pandas.pydata.org/docs/reference/api/pandas.DataFrame.from_dict.html\n",
    "    pandas_dict = {\n",
    "        'decade': [], # each key will be a column in DataFrame\n",
    "        '# books': [],\n",
    "    }\n",
    "    # Create one column per word in words_of_interest\n",
    "    for word in words_of_interest:\n",
    "        pandas_dict[word] = []\n",
    "    \n",
    "    # For each decade, enter counts to the pandas_dict. Each decade will be a row in DataFrame\n",
    "    for decade, counts in sorted(counts_per_decade.items()): #sorted() sorts in ascending ordee the decades \n",
    "        pandas_dict['decade'].append(decade)\n",
    "        pandas_dict['# books'].append(counts['number_of_books'])\n",
    "        for word in words_of_interest:\n",
    "            pandas_dict[word].append(counts[word])\n",
    "    \n",
    "    # At this point we have the full pandas_dict\n",
    "    # Convert it to DataFrame https://pandas.pydata.org/docs/reference/api/pandas.DataFrame.from_dict.html\n",
    "    data_frame = pd.DataFrame.from_dict(pandas_dict)\n",
    "    \n",
    "    # Calculate more columns from existing columns using lambdas\n",
    "    # https://stackoverflow.com/questions/26886653/pandas-create-new-column-based-on-values-from-other-columns-apply-a-function-o\n",
    "    def total_words(row, list_of_words):\n",
    "        total_count = 0\n",
    "        for word in list_of_words:\n",
    "            total_count += row[word]\n",
    "        return total_count\n",
    "            \n",
    "            \n",
    "    def average_words_per_book(row, list_of_words):\n",
    "        num_books = row['# books']\n",
    "        total_count = total_words(row, list_of_words)\n",
    "        return total_count / num_books\n",
    "        \n",
    "    # Lambda notation basically means this: data_frame.for_each_row(apply: average_words_per_book(row, words))\n",
    "    data_frame['total_female_words'] = data_frame.apply (lambda row: total_words(row, female_words), axis=1)\n",
    "    data_frame['total_male_words'] = data_frame.apply (lambda row: total_words(row, male_words), axis=1)\n",
    "    \n",
    "    data_frame['avg_f_wpb'] = data_frame.apply (lambda row: average_words_per_book(row, female_words), axis=1)\n",
    "    data_frame['avg_m_wpb'] = data_frame.apply (lambda row: average_words_per_book(row, male_words), axis=1)\n",
    "    \n",
    "    return data_frame\n",
    "\n",
    "df_so_analyzed = text_analysis(df_so)\n",
    "print(df_so_analyzed)"
   ]
  },
  {
   "cell_type": "code",
   "execution_count": 14,
   "id": "43423b56",
   "metadata": {},
   "outputs": [
    {
     "data": {
      "text/plain": [
       "(0.78152469028655, 0.002680489538724783)"
      ]
     },
     "execution_count": 14,
     "metadata": {},
     "output_type": "execute_result"
    }
   ],
   "source": [
    "pearsonr(df_so_analyzed['decade'], df_so_analyzed['avg_f_wpb'])"
   ]
  },
  {
   "cell_type": "code",
   "execution_count": 15,
   "id": "10cd1493",
   "metadata": {},
   "outputs": [
    {
     "data": {
      "text/plain": [
       "<AxesSubplot:xlabel='decade', ylabel='avg_f_wpb'>"
      ]
     },
     "execution_count": 15,
     "metadata": {},
     "output_type": "execute_result"
    },
    {
     "data": {
      "image/png": "[encoded data removed]",
      "text/plain": [
       "<Figure size 432x288 with 1 Axes>"
      ]
     },
     "metadata": {
      "needs_background": "light"
     },
     "output_type": "display_data"
    }
   ],
   "source": [
    "df_so_analyzed.plot.scatter(x=\"decade\", y=\"avg_f_wpb\")"
   ]
  },
  {
   "cell_type": "code",
   "execution_count": 16,
   "id": "28735fa3",
   "metadata": {},
   "outputs": [
    {
     "data": {
      "text/plain": [
       "(-0.4823914953774874, 0.11221672663658865)"
      ]
     },
     "execution_count": 16,
     "metadata": {},
     "output_type": "execute_result"
    }
   ],
   "source": [
    "pearsonr(df_so_analyzed['decade'], df_so_analyzed['avg_m_wpb'])"
   ]
  },
  {
   "cell_type": "code",
   "execution_count": 17,
   "id": "df503429",
   "metadata": {},
   "outputs": [
    {
     "data": {
      "text/plain": [
       "<AxesSubplot:xlabel='decade', ylabel='avg_m_wpb'>"
      ]
     },
     "execution_count": 17,
     "metadata": {},
     "output_type": "execute_result"
    },
    {
     "data": {
      "image/png": "[encoded data removed]",
      "text/plain": [
       "<Figure size 432x288 with 1 Axes>"
      ]
     },
     "metadata": {
      "needs_background": "light"
     },
     "output_type": "display_data"
    }
   ],
   "source": [
    "df_so_analyzed.plot.scatter(x=\"decade\", y=\"avg_m_wpb\")"
   ]
  }
 ],
 "metadata": {
  "kernelspec": {
   "display_name": "Python 3",
   "language": "python",
   "name": "python3"
  },
  "language_info": {
   "codemirror_mode": {
    "name": "ipython",
    "version": 3
   },
   "file_extension": ".py",
   "mimetype": "text/x-python",
   "name": "python",
   "nbconvert_exporter": "python",
   "pygments_lexer": "ipython3",
   "version": "3.8.8"
  }
 },
 "nbformat": 4,
 "nbformat_minor": 5
}
